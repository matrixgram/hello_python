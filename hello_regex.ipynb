{
 "cells": [
  {
   "cell_type": "code",
   "execution_count": 1,
   "id": "87fb92ee",
   "metadata": {},
   "outputs": [],
   "source": [
    "import re"
   ]
  },
  {
   "cell_type": "code",
   "execution_count": 3,
   "id": "c1c1ae55",
   "metadata": {},
   "outputs": [
    {
     "data": {
      "text/plain": [
       "['', '', '', '', '', '', '', '', '']"
      ]
     },
     "execution_count": 3,
     "metadata": {},
     "output_type": "execute_result"
    }
   ],
   "source": [
    "pattern = ''\n",
    "string = '''\n",
    "hello \n",
    "'''\n",
    "re.findall(pattern, string)"
   ]
  },
  {
   "cell_type": "code",
   "execution_count": 11,
   "id": "a2612dd4",
   "metadata": {},
   "outputs": [
    {
     "data": {
      "text/plain": [
       "['']"
      ]
     },
     "execution_count": 11,
     "metadata": {},
     "output_type": "execute_result"
    }
   ],
   "source": [
    "# empty pattern\n",
    "pattern = '^$'\n",
    "# string = ''\n",
    "# string = \"\"\n",
    "string = \"\"\"\n",
    "\"\"\"\n",
    "re.findall(pattern, string)"
   ]
  },
  {
   "cell_type": "code",
   "execution_count": 90,
   "id": "e784f09c",
   "metadata": {},
   "outputs": [
    {
     "data": {
      "text/plain": [
       "[]"
      ]
     },
     "execution_count": 90,
     "metadata": {},
     "output_type": "execute_result"
    }
   ],
   "source": [
    "# email pattern\n",
    "\n",
    "# Simple\n",
    "pattern = '^\\S+@\\S+$'\n",
    "pattern = '\\A\\S+@\\S+\\Z'\n",
    "\n",
    "# Simple, with restrictions on characters and Case insensitive\n",
    "pattern = '^[A-Z0-9+_.-]+@[A-Z0-9.-]+$'\n",
    "# pattern = '\\A[A-Z0-9+_.-]+@[A-Z0-9.-]+\\Z'\n",
    "\n",
    "# RFC 5322, with all valid local part characters Case insensitive\n",
    "pattern = \"^[A-Z0-9_!#$%&'*+/=?`{|}~^.-]+@[A-Z0-9.-]+$\"\n",
    "# pattern = \"\\A[A-Z0-9_!#$%&'*+/=?`{|}~^.-]+@[A-Z0-9.-]+\\Z\"\n",
    "\n",
    "# No leading, trailing, or consecutive dots\n",
    "pattern = \"^[A-Z0-9_!#$%&'*+/=?`{|}~^-]+(?:\\.[A-Z0-9_!#$%&'*+/=?`{|}~^-]+)*@[A-Z0-9-]+(?:\\.[A-Z0-9-]+)*$\"\n",
    "# pattern = \"\\A[A-Z0-9_!#$%&'*+/=?`{|}~^-]+(?:\\.[A-Z0-9_!#$%&'*+/=?`{|}~^-]+)*@[A-Z0-9-]+(?:\\.[A-Z0-9-]+)*\\Z\"\n",
    "\n",
    "# Top-level domain has two to six letters\n",
    "pattern = \"^[\\w!#$%&'*+/=?`{|}~^-]+(?:\\.[\\w!#$%&'*+/=?`{|}~^-]+)*@(?:[A-Z0-9-]+\\.)+[A-Z]{2,6}$\"\n",
    "# pattern = \"\\A[\\w!#$%&'*+/=?`{|}~^-]+(?:\\.[\\w!#$%&'*+/=?`{|}~^-]+)*@(?:[A-Z0-9-]+\\.)+[A-Z]{2,6}\\Z\"\n",
    "\n",
    "string = \"    info@gmail.u..k.com    \".strip().upper()\n",
    "re.findall(pattern, string)"
   ]
  },
  {
   "cell_type": "code",
   "execution_count": 67,
   "id": "10deef93",
   "metadata": {},
   "outputs": [
    {
     "data": {
      "text/plain": [
       "['INFO@GMAIL.COM']"
      ]
     },
     "execution_count": 67,
     "metadata": {},
     "output_type": "execute_result"
    }
   ],
   "source": [
    "# email pattern and strip string and upper\n",
    "pattern = \"^\\w+@\\w+.\\w{2,3}$\"\n",
    "string = \"          info@gmail.com     \"\n",
    "string = string.strip().upper()\n",
    "re.findall(pattern, string)"
   ]
  },
  {
   "cell_type": "code",
   "execution_count": 54,
   "id": "cde765d3",
   "metadata": {},
   "outputs": [],
   "source": [
    "s = 'asdf'"
   ]
  },
  {
   "cell_type": "code",
   "execution_count": 57,
   "id": "ae82fe4d",
   "metadata": {},
   "outputs": [
    {
     "data": {
      "text/plain": [
       "'ASDF'"
      ]
     },
     "execution_count": 57,
     "metadata": {},
     "output_type": "execute_result"
    }
   ],
   "source": [
    "s.upper()"
   ]
  },
  {
   "cell_type": "code",
   "execution_count": 58,
   "id": "3a189270",
   "metadata": {},
   "outputs": [
    {
     "data": {
      "text/plain": [
       "'asdf'"
      ]
     },
     "execution_count": 58,
     "metadata": {},
     "output_type": "execute_result"
    }
   ],
   "source": [
    "s"
   ]
  },
  {
   "cell_type": "code",
   "execution_count": 59,
   "id": "2cfbcdde",
   "metadata": {},
   "outputs": [
    {
     "data": {
      "text/plain": [
       "'INFO@GMAIL.COM'"
      ]
     },
     "execution_count": 59,
     "metadata": {},
     "output_type": "execute_result"
    }
   ],
   "source": [
    "string.upper()"
   ]
  },
  {
   "cell_type": "code",
   "execution_count": null,
   "id": "2e21604f",
   "metadata": {},
   "outputs": [],
   "source": []
  }
 ],
 "metadata": {
  "kernelspec": {
   "display_name": "Python 3 (ipykernel)",
   "language": "python",
   "name": "python3"
  },
  "language_info": {
   "codemirror_mode": {
    "name": "ipython",
    "version": 3
   },
   "file_extension": ".py",
   "mimetype": "text/x-python",
   "name": "python",
   "nbconvert_exporter": "python",
   "pygments_lexer": "ipython3",
   "version": "3.9.9"
  }
 },
 "nbformat": 4,
 "nbformat_minor": 5
}
